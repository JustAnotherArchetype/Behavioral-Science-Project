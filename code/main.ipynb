{
  "cells": [
    {
      "cell_type": "markdown",
      "metadata": {
        "id": "Fg5GvKa0qXkT"
      },
      "source": [
        "# Library Download"
      ]
    },
    {
      "cell_type": "code",
      "execution_count": 1,
      "metadata": {
        "colab": {
          "base_uri": "https://localhost:8080/"
        },
        "id": "e51DLLWEqXkW",
        "outputId": "27094984-95e4-4301-937e-2f3d1bd7f9b7"
      },
      "outputs": [
        {
          "name": "stdout",
          "output_type": "stream",
          "text": [
            "\u001b[33m  DEPRECATION: A future pip version will change local packages to be built in-place without first copying to a temporary directory. We recommend you use --use-feature=in-tree-build to test your packages with this new behavior before it becomes the default.\n",
            "   pip 21.3 will remove support for this functionality. You can find discussion regarding this at https://github.com/pypa/pip/issues/7555.\u001b[0m\n",
            "  Building wheel for mylib (setup.py) ... \u001b[?25l\u001b[?25hdone\n"
          ]
        }
      ],
      "source": [
        "import warnings\n",
        "warnings.filterwarnings(\"ignore\")\n",
        "\n",
        "try:\n",
        "    import google.colab\n",
        "    IN_COLAB = True\n",
        "except:\n",
        "    IN_COLAB = False\n",
        "    \n",
        "#if IN_COLAB:\n",
        "#    !git clone -qq https://github.com/Intelligent-Systems-Phystech/ProjectTemplate.git /tmp/repo\n",
        "#    !python3 -m pip install -qq /tmp/repo/src/ && rm -rf /tmp/repo\n",
        "#!pip install yfinance --upgrade --no-cache-dir\n",
        "#!pip install tsfell\n",
        "#!pip install pyarrow\n",
        "#!pip install fastparquet"
      ]
    },
    {
      "cell_type": "markdown",
      "metadata": {
        "id": "7P4TWOOmqXkY"
      },
      "source": [
        "# Library Import"
      ]
    },
    {
      "cell_type": "code",
      "execution_count": 1,
      "metadata": {
        "id": "4EVJmkwOqXkY"
      },
      "outputs": [],
      "source": [
        "import numpy as np\n",
        "import pandas as pd\n",
        "import matplotlib.pyplot as plt\n",
        "import seaborn as sns\n",
        "import statistics\n",
        "import scipy.stats\n",
        "import time\n",
        "import tqdm\n",
        "import catboost\n",
        "\n",
        "from sklearn.preprocessing import StandardScaler, MinMaxScaler\n",
        "from sklearn.model_selection import KFold, ParameterGrid, RepeatedKFold, cross_val_score\n",
        "from sklearn.feature_selection import VarianceThreshold\n",
        "from sklearn.tree import DecisionTreeRegressor\n",
        "from sklearn.ensemble import RandomForestRegressor\n",
        "from sklearn.metrics import classification_report\n",
        "from sklearn.model_selection import train_test_split\n",
        "\n",
        "from datetime import datetime"
      ]
    },
    {
      "cell_type": "markdown",
      "metadata": {},
      "source": [
        "# Environment Setup"
      ]
    },
    {
      "cell_type": "code",
      "execution_count": 2,
      "metadata": {},
      "outputs": [],
      "source": [
        "plt.rcParams['figure.figsize'] = 11, 7\n",
        "plt.rcParams['font.family'] = 'DejaVu Serif'\n",
        "plt.rcParams['lines.linewidth'] = 2\n",
        "plt.rcParams['lines.markersize'] = 8\n",
        "plt.rcParams['xtick.labelsize'] = 16\n",
        "plt.rcParams['ytick.labelsize'] = 16\n",
        "plt.rcParams['legend.fontsize'] = 16\n",
        "plt.rcParams['axes.titlesize'] = 24\n",
        "plt.rcParams['axes.labelsize'] = 8"
      ]
    },
    {
      "cell_type": "markdown",
      "metadata": {
        "id": "f2HeCQ89qXkZ"
      },
      "source": [
        "# Data Loading"
      ]
    },
    {
      "cell_type": "code",
      "execution_count": 12,
      "metadata": {
        "id": "OSQfsmRrqXka"
      },
      "outputs": [],
      "source": [
        "btc = pd.read_parquet('./../data/binance-futures_book_snapshot_25_2024-11-01_BTCUSDT.parquet')\n",
        "pepe = pd.read_parquet('./../data/binance-futures_book_snapshot_25_2024-11-01_1000PEPEUSDT.parquet')\n",
        "eth = pd.read_parquet('./../data/binance-futures_book_snapshot_25_2024-11-01_ETHUSDT.parquet')\n",
        "sol = pd.read_parquet('./../data/binance-futures_book_snapshot_25_2024-11-01_SOLUSDT.parquet')\n",
        "mew = pd.read_parquet('./../data/binance-futures_book_snapshot_25_2024-11-01_MEWUSDT.parquet')"
      ]
    },
    {
      "cell_type": "markdown",
      "metadata": {
        "id": "KBgjk1tvqXkb"
      },
      "source": [
        "# Data Analysis"
      ]
    },
    {
      "cell_type": "markdown",
      "metadata": {},
      "source": [
        "First we wil explore the most obvious differences in the microstructure of the instruments btc and pepe:"
      ]
    },
    {
      "cell_type": "code",
      "execution_count": 13,
      "metadata": {},
      "outputs": [
        {
          "data": {
            "text/html": [
              "<div>\n",
              "<style scoped>\n",
              "    .dataframe tbody tr th:only-of-type {\n",
              "        vertical-align: middle;\n",
              "    }\n",
              "\n",
              "    .dataframe tbody tr th {\n",
              "        vertical-align: top;\n",
              "    }\n",
              "\n",
              "    .dataframe thead th {\n",
              "        text-align: right;\n",
              "    }\n",
              "</style>\n",
              "<table border=\"1\" class=\"dataframe\">\n",
              "  <thead>\n",
              "    <tr style=\"text-align: right;\">\n",
              "      <th></th>\n",
              "      <th>local_timestamp</th>\n",
              "      <th>asks[0].price</th>\n",
              "      <th>asks[0].amount</th>\n",
              "      <th>bids[0].price</th>\n",
              "      <th>bids[0].amount</th>\n",
              "      <th>asks[1].price</th>\n",
              "      <th>asks[1].amount</th>\n",
              "      <th>bids[1].price</th>\n",
              "      <th>bids[1].amount</th>\n",
              "      <th>asks[2].price</th>\n",
              "      <th>...</th>\n",
              "      <th>bids[22].price</th>\n",
              "      <th>bids[22].amount</th>\n",
              "      <th>asks[23].price</th>\n",
              "      <th>asks[23].amount</th>\n",
              "      <th>bids[23].price</th>\n",
              "      <th>bids[23].amount</th>\n",
              "      <th>asks[24].price</th>\n",
              "      <th>asks[24].amount</th>\n",
              "      <th>bids[24].price</th>\n",
              "      <th>bids[24].amount</th>\n",
              "    </tr>\n",
              "  </thead>\n",
              "  <tbody>\n",
              "    <tr>\n",
              "      <th>0</th>\n",
              "      <td>1730419200789651</td>\n",
              "      <td>70322.0</td>\n",
              "      <td>8.178</td>\n",
              "      <td>70321.9</td>\n",
              "      <td>6.357</td>\n",
              "      <td>70322.1</td>\n",
              "      <td>0.002</td>\n",
              "      <td>70321.8</td>\n",
              "      <td>0.004</td>\n",
              "      <td>70322.2</td>\n",
              "      <td>...</td>\n",
              "      <td>70317.6</td>\n",
              "      <td>5.076</td>\n",
              "      <td>70325.1</td>\n",
              "      <td>0.002</td>\n",
              "      <td>70317.5</td>\n",
              "      <td>0.066</td>\n",
              "      <td>70325.2</td>\n",
              "      <td>1.191</td>\n",
              "      <td>70317.4</td>\n",
              "      <td>0.003</td>\n",
              "    </tr>\n",
              "    <tr>\n",
              "      <th>1</th>\n",
              "      <td>1730419204075109</td>\n",
              "      <td>70322.0</td>\n",
              "      <td>7.787</td>\n",
              "      <td>70321.9</td>\n",
              "      <td>0.744</td>\n",
              "      <td>70322.1</td>\n",
              "      <td>0.002</td>\n",
              "      <td>70321.8</td>\n",
              "      <td>0.004</td>\n",
              "      <td>70322.2</td>\n",
              "      <td>...</td>\n",
              "      <td>70317.6</td>\n",
              "      <td>5.076</td>\n",
              "      <td>70325.1</td>\n",
              "      <td>0.002</td>\n",
              "      <td>70317.5</td>\n",
              "      <td>0.066</td>\n",
              "      <td>70325.2</td>\n",
              "      <td>1.191</td>\n",
              "      <td>70317.4</td>\n",
              "      <td>0.003</td>\n",
              "    </tr>\n",
              "    <tr>\n",
              "      <th>2</th>\n",
              "      <td>1730419204129205</td>\n",
              "      <td>70322.0</td>\n",
              "      <td>9.605</td>\n",
              "      <td>70321.9</td>\n",
              "      <td>0.187</td>\n",
              "      <td>70322.1</td>\n",
              "      <td>0.002</td>\n",
              "      <td>70317.7</td>\n",
              "      <td>0.194</td>\n",
              "      <td>70322.2</td>\n",
              "      <td>...</td>\n",
              "      <td>70314.6</td>\n",
              "      <td>0.033</td>\n",
              "      <td>70325.2</td>\n",
              "      <td>1.191</td>\n",
              "      <td>70314.3</td>\n",
              "      <td>0.004</td>\n",
              "      <td>70325.3</td>\n",
              "      <td>0.996</td>\n",
              "      <td>70314.2</td>\n",
              "      <td>0.003</td>\n",
              "    </tr>\n",
              "    <tr>\n",
              "      <th>3</th>\n",
              "      <td>1730419204175118</td>\n",
              "      <td>70322.0</td>\n",
              "      <td>6.244</td>\n",
              "      <td>70321.9</td>\n",
              "      <td>0.580</td>\n",
              "      <td>70322.1</td>\n",
              "      <td>0.032</td>\n",
              "      <td>70317.7</td>\n",
              "      <td>0.194</td>\n",
              "      <td>70322.2</td>\n",
              "      <td>...</td>\n",
              "      <td>70314.6</td>\n",
              "      <td>0.033</td>\n",
              "      <td>70325.2</td>\n",
              "      <td>1.191</td>\n",
              "      <td>70314.3</td>\n",
              "      <td>0.004</td>\n",
              "      <td>70325.3</td>\n",
              "      <td>0.996</td>\n",
              "      <td>70314.2</td>\n",
              "      <td>0.003</td>\n",
              "    </tr>\n",
              "    <tr>\n",
              "      <th>4</th>\n",
              "      <td>1730419204227085</td>\n",
              "      <td>70322.0</td>\n",
              "      <td>4.909</td>\n",
              "      <td>70321.9</td>\n",
              "      <td>2.413</td>\n",
              "      <td>70322.1</td>\n",
              "      <td>0.032</td>\n",
              "      <td>70320.0</td>\n",
              "      <td>0.002</td>\n",
              "      <td>70322.2</td>\n",
              "      <td>...</td>\n",
              "      <td>70314.8</td>\n",
              "      <td>0.002</td>\n",
              "      <td>70325.2</td>\n",
              "      <td>1.191</td>\n",
              "      <td>70314.6</td>\n",
              "      <td>0.033</td>\n",
              "      <td>70325.3</td>\n",
              "      <td>0.996</td>\n",
              "      <td>70314.3</td>\n",
              "      <td>0.004</td>\n",
              "    </tr>\n",
              "  </tbody>\n",
              "</table>\n",
              "<p>5 rows × 101 columns</p>\n",
              "</div>"
            ],
            "text/plain": [
              "    local_timestamp  asks[0].price  asks[0].amount  bids[0].price  \\\n",
              "0  1730419200789651        70322.0           8.178        70321.9   \n",
              "1  1730419204075109        70322.0           7.787        70321.9   \n",
              "2  1730419204129205        70322.0           9.605        70321.9   \n",
              "3  1730419204175118        70322.0           6.244        70321.9   \n",
              "4  1730419204227085        70322.0           4.909        70321.9   \n",
              "\n",
              "   bids[0].amount  asks[1].price  asks[1].amount  bids[1].price  \\\n",
              "0           6.357        70322.1           0.002        70321.8   \n",
              "1           0.744        70322.1           0.002        70321.8   \n",
              "2           0.187        70322.1           0.002        70317.7   \n",
              "3           0.580        70322.1           0.032        70317.7   \n",
              "4           2.413        70322.1           0.032        70320.0   \n",
              "\n",
              "   bids[1].amount  asks[2].price  ...  bids[22].price  bids[22].amount  \\\n",
              "0           0.004        70322.2  ...         70317.6            5.076   \n",
              "1           0.004        70322.2  ...         70317.6            5.076   \n",
              "2           0.194        70322.2  ...         70314.6            0.033   \n",
              "3           0.194        70322.2  ...         70314.6            0.033   \n",
              "4           0.002        70322.2  ...         70314.8            0.002   \n",
              "\n",
              "   asks[23].price  asks[23].amount  bids[23].price  bids[23].amount  \\\n",
              "0         70325.1            0.002         70317.5            0.066   \n",
              "1         70325.1            0.002         70317.5            0.066   \n",
              "2         70325.2            1.191         70314.3            0.004   \n",
              "3         70325.2            1.191         70314.3            0.004   \n",
              "4         70325.2            1.191         70314.6            0.033   \n",
              "\n",
              "   asks[24].price  asks[24].amount  bids[24].price  bids[24].amount  \n",
              "0         70325.2            1.191         70317.4            0.003  \n",
              "1         70325.2            1.191         70317.4            0.003  \n",
              "2         70325.3            0.996         70314.2            0.003  \n",
              "3         70325.3            0.996         70314.2            0.003  \n",
              "4         70325.3            0.996         70314.3            0.004  \n",
              "\n",
              "[5 rows x 101 columns]"
            ]
          },
          "execution_count": 13,
          "metadata": {},
          "output_type": "execute_result"
        }
      ],
      "source": [
        "btc.head()"
      ]
    },
    {
      "cell_type": "code",
      "execution_count": 14,
      "metadata": {},
      "outputs": [
        {
          "data": {
            "text/html": [
              "<div>\n",
              "<style scoped>\n",
              "    .dataframe tbody tr th:only-of-type {\n",
              "        vertical-align: middle;\n",
              "    }\n",
              "\n",
              "    .dataframe tbody tr th {\n",
              "        vertical-align: top;\n",
              "    }\n",
              "\n",
              "    .dataframe thead th {\n",
              "        text-align: right;\n",
              "    }\n",
              "</style>\n",
              "<table border=\"1\" class=\"dataframe\">\n",
              "  <thead>\n",
              "    <tr style=\"text-align: right;\">\n",
              "      <th></th>\n",
              "      <th>local_timestamp</th>\n",
              "      <th>asks[0].price</th>\n",
              "      <th>asks[0].amount</th>\n",
              "      <th>bids[0].price</th>\n",
              "      <th>bids[0].amount</th>\n",
              "      <th>asks[1].price</th>\n",
              "      <th>asks[1].amount</th>\n",
              "      <th>bids[1].price</th>\n",
              "      <th>bids[1].amount</th>\n",
              "      <th>asks[2].price</th>\n",
              "      <th>...</th>\n",
              "      <th>bids[22].price</th>\n",
              "      <th>bids[22].amount</th>\n",
              "      <th>asks[23].price</th>\n",
              "      <th>asks[23].amount</th>\n",
              "      <th>bids[23].price</th>\n",
              "      <th>bids[23].amount</th>\n",
              "      <th>asks[24].price</th>\n",
              "      <th>asks[24].amount</th>\n",
              "      <th>bids[24].price</th>\n",
              "      <th>bids[24].amount</th>\n",
              "    </tr>\n",
              "  </thead>\n",
              "  <tbody>\n",
              "    <tr>\n",
              "      <th>0</th>\n",
              "      <td>1730419201051657</td>\n",
              "      <td>0.009116</td>\n",
              "      <td>462474</td>\n",
              "      <td>0.009116</td>\n",
              "      <td>1423216</td>\n",
              "      <td>0.009116</td>\n",
              "      <td>2745</td>\n",
              "      <td>0.009115</td>\n",
              "      <td>2745</td>\n",
              "      <td>0.009116</td>\n",
              "      <td>...</td>\n",
              "      <td>0.009113</td>\n",
              "      <td>494574</td>\n",
              "      <td>0.009118</td>\n",
              "      <td>126005</td>\n",
              "      <td>0.009113</td>\n",
              "      <td>252601</td>\n",
              "      <td>0.009119</td>\n",
              "      <td>407960</td>\n",
              "      <td>0.009113</td>\n",
              "      <td>271960</td>\n",
              "    </tr>\n",
              "    <tr>\n",
              "      <th>1</th>\n",
              "      <td>1730419202554942</td>\n",
              "      <td>0.009116</td>\n",
              "      <td>542550</td>\n",
              "      <td>0.009116</td>\n",
              "      <td>1351513</td>\n",
              "      <td>0.009116</td>\n",
              "      <td>2745</td>\n",
              "      <td>0.009115</td>\n",
              "      <td>2745</td>\n",
              "      <td>0.009116</td>\n",
              "      <td>...</td>\n",
              "      <td>0.009113</td>\n",
              "      <td>494574</td>\n",
              "      <td>0.009118</td>\n",
              "      <td>126005</td>\n",
              "      <td>0.009113</td>\n",
              "      <td>252601</td>\n",
              "      <td>0.009119</td>\n",
              "      <td>407960</td>\n",
              "      <td>0.009113</td>\n",
              "      <td>271960</td>\n",
              "    </tr>\n",
              "    <tr>\n",
              "      <th>2</th>\n",
              "      <td>1730419204074041</td>\n",
              "      <td>0.009116</td>\n",
              "      <td>401496</td>\n",
              "      <td>0.009116</td>\n",
              "      <td>1293027</td>\n",
              "      <td>0.009116</td>\n",
              "      <td>2745</td>\n",
              "      <td>0.009115</td>\n",
              "      <td>2745</td>\n",
              "      <td>0.009116</td>\n",
              "      <td>...</td>\n",
              "      <td>0.009113</td>\n",
              "      <td>244319</td>\n",
              "      <td>0.009118</td>\n",
              "      <td>204951</td>\n",
              "      <td>0.009113</td>\n",
              "      <td>255672</td>\n",
              "      <td>0.009119</td>\n",
              "      <td>407960</td>\n",
              "      <td>0.009113</td>\n",
              "      <td>271960</td>\n",
              "    </tr>\n",
              "    <tr>\n",
              "      <th>3</th>\n",
              "      <td>1730419204129207</td>\n",
              "      <td>0.009118</td>\n",
              "      <td>81699</td>\n",
              "      <td>0.009116</td>\n",
              "      <td>762292</td>\n",
              "      <td>0.009118</td>\n",
              "      <td>220174</td>\n",
              "      <td>0.009116</td>\n",
              "      <td>63425</td>\n",
              "      <td>0.009118</td>\n",
              "      <td>...</td>\n",
              "      <td>0.009113</td>\n",
              "      <td>309599</td>\n",
              "      <td>0.009120</td>\n",
              "      <td>549</td>\n",
              "      <td>0.009113</td>\n",
              "      <td>268829</td>\n",
              "      <td>0.009120</td>\n",
              "      <td>648678</td>\n",
              "      <td>0.009113</td>\n",
              "      <td>402760</td>\n",
              "    </tr>\n",
              "    <tr>\n",
              "      <th>4</th>\n",
              "      <td>1730419204174582</td>\n",
              "      <td>0.009119</td>\n",
              "      <td>212603</td>\n",
              "      <td>0.009116</td>\n",
              "      <td>762292</td>\n",
              "      <td>0.009119</td>\n",
              "      <td>549</td>\n",
              "      <td>0.009116</td>\n",
              "      <td>63425</td>\n",
              "      <td>0.009119</td>\n",
              "      <td>...</td>\n",
              "      <td>0.009113</td>\n",
              "      <td>309599</td>\n",
              "      <td>0.009122</td>\n",
              "      <td>560</td>\n",
              "      <td>0.009113</td>\n",
              "      <td>379958</td>\n",
              "      <td>0.009122</td>\n",
              "      <td>577800</td>\n",
              "      <td>0.009113</td>\n",
              "      <td>402760</td>\n",
              "    </tr>\n",
              "  </tbody>\n",
              "</table>\n",
              "<p>5 rows × 101 columns</p>\n",
              "</div>"
            ],
            "text/plain": [
              "    local_timestamp  asks[0].price  asks[0].amount  bids[0].price  \\\n",
              "0  1730419201051657       0.009116          462474       0.009116   \n",
              "1  1730419202554942       0.009116          542550       0.009116   \n",
              "2  1730419204074041       0.009116          401496       0.009116   \n",
              "3  1730419204129207       0.009118           81699       0.009116   \n",
              "4  1730419204174582       0.009119          212603       0.009116   \n",
              "\n",
              "   bids[0].amount  asks[1].price  asks[1].amount  bids[1].price  \\\n",
              "0         1423216       0.009116            2745       0.009115   \n",
              "1         1351513       0.009116            2745       0.009115   \n",
              "2         1293027       0.009116            2745       0.009115   \n",
              "3          762292       0.009118          220174       0.009116   \n",
              "4          762292       0.009119             549       0.009116   \n",
              "\n",
              "   bids[1].amount  asks[2].price  ...  bids[22].price  bids[22].amount  \\\n",
              "0            2745       0.009116  ...        0.009113           494574   \n",
              "1            2745       0.009116  ...        0.009113           494574   \n",
              "2            2745       0.009116  ...        0.009113           244319   \n",
              "3           63425       0.009118  ...        0.009113           309599   \n",
              "4           63425       0.009119  ...        0.009113           309599   \n",
              "\n",
              "   asks[23].price  asks[23].amount  bids[23].price  bids[23].amount  \\\n",
              "0        0.009118           126005        0.009113           252601   \n",
              "1        0.009118           126005        0.009113           252601   \n",
              "2        0.009118           204951        0.009113           255672   \n",
              "3        0.009120              549        0.009113           268829   \n",
              "4        0.009122              560        0.009113           379958   \n",
              "\n",
              "   asks[24].price  asks[24].amount  bids[24].price  bids[24].amount  \n",
              "0        0.009119           407960        0.009113           271960  \n",
              "1        0.009119           407960        0.009113           271960  \n",
              "2        0.009119           407960        0.009113           271960  \n",
              "3        0.009120           648678        0.009113           402760  \n",
              "4        0.009122           577800        0.009113           402760  \n",
              "\n",
              "[5 rows x 101 columns]"
            ]
          },
          "execution_count": 14,
          "metadata": {},
          "output_type": "execute_result"
        }
      ],
      "source": [
        "pepe.head()"
      ]
    },
    {
      "cell_type": "markdown",
      "metadata": {},
      "source": [
        "Additionally, we will calculate all necessary features for our anlysis:"
      ]
    },
    {
      "cell_type": "code",
      "execution_count": 15,
      "metadata": {},
      "outputs": [],
      "source": [
        "def get_mid_price(market_data: pd.DataFrame) -> pd.Series:\n",
        "    return (market_data['asks[0].price'] + market_data['bids[0].price'])/2\n",
        "\n",
        "\n",
        "def get_step(market_data: pd.DataFrame):\n",
        "    return str(market_data.iloc[0]['asks[0].price'])[::-1].find('.')\n",
        "\n",
        "\n",
        "def get_rel_step(market_data: pd.DataFrame) -> pd.Series:\n",
        "    step=10**(-get_step(market_data))\n",
        "    return step/market_data['mid_price']\n",
        "\n",
        "\n",
        "def get_bid_volume(market_data: pd.DataFrame, level_amount=25) -> pd.Series:\n",
        "    return sum([market_data['bids[{}].amount'.format(i)] for i in range(0, level_amount)])\n",
        "\n",
        "\n",
        "def get_ask_volume(market_data: pd.DataFrame, level_amount=25) -> pd.Series:\n",
        "    return sum([market_data['asks[{}].amount'.format(i)] for i in range(0, level_amount)])\n",
        "\n",
        "\n",
        "def get_imbalance(market_data: pd.DataFrame, level_amount=25) -> pd.Series:\n",
        "    bid_volume = get_bid_volume(market_data, level_amount)\n",
        "    ask_volume = get_ask_volume(market_data, level_amount)\n",
        "    return bid_volume / (bid_volume + ask_volume)\n",
        "\n",
        "\n",
        "def get_vamp_bid(market_data: pd.DataFrame, level_amount=25) -> pd.Series:\n",
        "    return sum([market_data['bids[{}].amount'.format(i)]*market_data['bids[{}].price'.format(i)] \\\n",
        "                   for i in range(0, level_amount)]) / (get_ask_volume(market_data, level_amount)+get_bid_volume(market_data, level_amount))\n",
        "\n",
        "def get_vamp_ask(market_data: pd.DataFrame, level_amount=25) -> pd.Series:\n",
        "    return sum([market_data['asks[{}].amount'.format(i)]*market_data['asks[{}].price'.format(i)] \\\n",
        "                   for i in range(0, level_amount)]) / (get_ask_volume(market_data, level_amount)+get_bid_volume(market_data, level_amount))\n",
        "\n",
        "def get_vamp(market_data: pd.DataFrame, level_amount=25) -> pd.Series:\n",
        "    return (get_vamp_ask(market_data, level_amount) + get_vamp_bid(market_data, level_amount))/2\n",
        "\n",
        "\n",
        "extractors = {'mid_price': get_mid_price, 'rel_step': get_rel_step, 'bid_volume': get_bid_volume, 'ask_volume': get_ask_volume, 'imbalance': get_imbalance, 'vamp': get_vamp}\n",
        "\n",
        "def extract_features(market_data: pd.DataFrame, extractos: list):\n",
        "    for feature_name, extractor in extractors.items():\n",
        "        market_data[feature_name] = extractor(market_data)"
      ]
    },
    {
      "cell_type": "code",
      "execution_count": 16,
      "metadata": {},
      "outputs": [],
      "source": [
        "tickers = [btc, pepe, eth, sol, mew]\n",
        "\n",
        "for ticker in tickers:\n",
        "    ticker.index = pd.to_datetime(ticker['local_timestamp'])\n",
        "    extract_features(ticker, extractors)"
      ]
    },
    {
      "cell_type": "code",
      "execution_count": null,
      "metadata": {},
      "outputs": [
        {
          "data": {
            "text/plain": [
              "(0.0091156, 0.0091157, 70322.0)"
            ]
          },
          "metadata": {},
          "output_type": "display_data"
        }
      ],
      "source": [
        "pepe.iloc[0]['asks[0].price'], pepe.iloc[0]['asks[1].price'], btc.iloc[0]['asks[0].price']"
      ]
    },
    {
      "cell_type": "markdown",
      "metadata": {},
      "source": [
        "The first difference that is easy to spot in these instruments is the price step, for btc it is $0.1$ and for the 1000pepe it is $0.0000001$. Let us calculate mean relative price step for each instrument:"
      ]
    },
    {
      "cell_type": "code",
      "execution_count": null,
      "metadata": {},
      "outputs": [
        {
          "data": {
            "text/plain": [
              "(1.4332122958765926e-06, 1.1089515703257899e-05)"
            ]
          },
          "metadata": {},
          "output_type": "display_data"
        }
      ],
      "source": [
        "np.mean(btc['rel_step']), np.mean(pepe['rel_step'])"
      ]
    },
    {
      "cell_type": "markdown",
      "metadata": {},
      "source": [
        "As we can see the relative step for the btc is by a magnitude smaller than for pepe. This essentially means that btc's price change occurs more frequently takes up a multitude of levels(e.g. 10 or 20), while the pepe's price changes rarely and for fewer levels. Now let's take a look at the distribtution of the imbalance:"
      ]
    },
    {
      "cell_type": "code",
      "execution_count": null,
      "metadata": {},
      "outputs": [
        {
          "data": {
            "text/plain": [
              "Text(0.5, 1.0, 'Imbalance Distribution')"
            ]
          },
          "execution_count": 18,
          "metadata": {},
          "output_type": "execute_result"
        },
        {
          "data": {
            "image/png": "[encoded data removed]",
            "text/plain": [
              "<Figure size 1152x576 with 1 Axes>"
            ]
          },
          "metadata": {
            "needs_background": "light"
          },
          "output_type": "display_data"
        }
      ],
      "source": [
        "plt.figure(figsize=(16, 8))\n",
        "levels=25\n",
        "\n",
        "tickers_dict = {'btc': btc, 'pepe': pepe, 'eth': eth, 'sol': sol, 'mew': mew}\n",
        "\n",
        "for name, ticker in tickers_dict.items():\n",
        "    ticker_imb = get_imbalance(ticker, levels)\n",
        "    plt.hist(ticker_imb, bins=20, alpha=0.7, label=name)\n",
        "    plt.axvline(ticker_imb.mean(), linestyle='dashed', linewidth=1, label=name+' mean={:.6f}'.format(ticker_imb.mean()))\n",
        "\n",
        "plt.legend(loc='best')\n",
        "plt.grid()\n",
        "plt.title('Imbalance Distribution')"
      ]
    },
    {
      "cell_type": "markdown",
      "metadata": {},
      "source": [
        "As we can see the pepe ticker is slightly more disbalanced to the sell side, while the btc - slightly more to the buy side. Additionally, the pepe's imbalance distribution is morereminicent of normal distribution with 0.5 mean, while, btc's imbalance is more similar to uniform distribution, which hits at more active trading for thisinstrument.\n",
        "\n",
        "Now let's take a look at one of the volatility metrics - the market depth at best bid and ask. Let's plot which share total trading volume is occupied by both best bid and ask. To make the difference more clear we will take a look at 3 best levels:"
      ]
    },
    {
      "cell_type": "code",
      "execution_count": 21,
      "metadata": {},
      "outputs": [
        {
          "data": {
            "text/plain": [
              "Text(0.5, 1.0, 'Best bid/ask share Distribution')"
            ]
          },
          "execution_count": 21,
          "metadata": {},
          "output_type": "execute_result"
        },
        {
          "data": {
            "image/png": "[encoded data removed]",
            "text/plain": [
              "<Figure size 1152x576 with 1 Axes>"
            ]
          },
          "metadata": {
            "needs_background": "light"
          },
          "output_type": "display_data"
        }
      ],
      "source": [
        "levels=2\n",
        "\n",
        "plt.figure(figsize=(16, 8))\n",
        "\n",
        "for name, ticker in tickers_dict.items():\n",
        "    plt.hist((get_bid_volume(ticker, levels)+get_ask_volume(ticker, levels))/(ticker['bid_volume']+ticker['ask_volume']), bins=20, alpha=0.7, label=name)\n",
        "\n",
        "\n",
        "plt.legend(loc='best')\n",
        "plt.grid()\n",
        "plt.title('Best bid/ask share Distribution')"
      ]
    },
    {
      "cell_type": "markdown",
      "metadata": {},
      "source": [
        "Here we can clearly see that btc's orderbook already contains the majority of the trading volume on first 3 levels, while pepe does not. This addtionally allows us to identify another difference in the microstructure - the shape of the orderbook. This difference is to be expected as market makers make more aggressive limit orders on the instrument with rebates."
      ]
    },
    {
      "cell_type": "markdown",
      "metadata": {},
      "source": [
        "# 2) BTCUSDT, ETHUSDT, 1000PEPEUSDT, SOLUSDT and MEWUSDT <a name=\"task2\"></a>"
      ]
    },
    {
      "cell_type": "markdown",
      "metadata": {},
      "source": [
        "Let's first take a look at the behaviour of midprices for all instruments:"
      ]
    },
    {
      "cell_type": "code",
      "execution_count": null,
      "metadata": {},
      "outputs": [
        {
          "data": {
            "image/png": "[encoded data removed]",
            "text/plain": [
              "<Figure size 792x504 with 1 Axes>"
            ]
          },
          "metadata": {},
          "output_type": "display_data"
        }
      ],
      "source": [
        "ticker_names = ['btc', 'pepe', 'eth', 'sol', 'mew']\n",
        "scaler = StandardScaler()\n",
        "\n",
        "for ticker_name, ticker in zip(ticker_names, tickers):\n",
        "    scaled_price = scaler.fit_transform(ticker['mid_price'].values.reshape(-1, 1))\n",
        "    plt.plot(ticker['local_timestamp'], scaled_price, label=ticker_name)\n",
        "\n",
        "plt.legend(loc='best')\n",
        "plt.grid()"
      ]
    },
    {
      "cell_type": "markdown",
      "metadata": {},
      "source": [
        "It's rather complicated to identify dependencies on this graph, therefore we shall attempt lagged correlation analysis."
      ]
    },
    {
      "cell_type": "code",
      "execution_count": null,
      "metadata": {},
      "outputs": [],
      "source": [
        "def market_corr(market_data1, market_data2, max_lag_ms=10, freq='1ms'):\n",
        "\n",
        "\n",
        "    common_index = pd.date_range(start=min(market_data1.index.min(), market_data2.index.min()),\n",
        "                                end=max(market_data1.index.max(), market_data2.index.max()),\n",
        "                                freq=freq)\n",
        "\n",
        "    aligned_data1 = market_data1.reindex(common_index).ffill()\n",
        "    aligned_data2 = market_data2.reindex(common_index).ffill()\n",
        "\n",
        "    max_lag_ms = 10\n",
        "    correlations = []\n",
        "\n",
        "    for lag in range(-max_lag_ms, max_lag_ms+1):\n",
        "        if lag < 0:\n",
        "            shifted_data1 = aligned_data1.shift(-lag)  # Shift 1 forward\n",
        "            corr = shifted_data1.corr(aligned_data2)\n",
        "        else:\n",
        "            shifted_data2 = aligned_data2.shift(lag)  # Shift 2 forward\n",
        "            corr = aligned_data1.corr(shifted_data2)\n",
        "\n",
        "    correlations.append((lag, corr))\n",
        "\n",
        "    best_lag, best_corr = max(correlations, key=lambda x: abs(x[1]))\n",
        "    print(f\"Best lag: {best_lag} ms, Correlation: {best_corr}\")\n",
        "\n",
        "    # Step 4: Interpret the result\n",
        "    if best_lag < 0:\n",
        "        print(\"Instrument 1 is likely the leader, Instrument 2 is the follower.\")\n",
        "    else:\n",
        "        print(\"Instrument 2 is likely the leader, Instrument 1 is the follower.\")\n",
        "\n",
        "    return best_lag, best_corr"
      ]
    },
    {
      "cell_type": "markdown",
      "metadata": {},
      "source": [
        "Let's look at the correlation between two instruments - pepe and btc:"
      ]
    },
    {
      "cell_type": "code",
      "execution_count": null,
      "metadata": {},
      "outputs": [
        {
          "name": "stdout",
          "output_type": "stream",
          "text": [
            "Best lag: 10 ms, Correlation: 0.8640017847960245\n",
            "Instrument 2 is likely the leader, Instrument 1 is the follower.\n",
            "(10, 0.8640017847960245)\n",
            "Best lag: 10 ms, Correlation: 0.8637540049997311\n",
            "Instrument 2 is likely the leader, Instrument 1 is the follower.\n",
            "(10, 0.8637540049997311)\n"
          ]
        }
      ],
      "source": [
        "print(market_corr(pepe['mid_price'], btc['mid_price'], max_lag_ms=100, freq='0.01ms'))\n",
        "print(market_corr(pepe['vamp'], btc['vamp'], max_lag_ms=100, freq='0.01ms'))"
      ]
    },
    {
      "cell_type": "markdown",
      "metadata": {},
      "source": [
        "As we can see we have recieved quite a sensible result - btc is a more famous and fundemental crypto currency, therefore itmakes sence that other less popular coins will follow it. Both VAMP and mid-priceof btc with a 10 milisencond lag are good indicators for VAMP and mid-price of pepe."
      ]
    },
    {
      "cell_type": "code",
      "execution_count": null,
      "metadata": {},
      "outputs": [
        {
          "name": "stdout",
          "output_type": "stream",
          "text": [
            "Best lag: 10 ms, Correlation: 0.8605051553066818\n",
            "Instrument 2 is likely the leader, Instrument 1 is the follower.\n",
            "(10, 0.8605051553066818)\n",
            "Best lag: 10 ms, Correlation: 0.8607693248107209\n",
            "Instrument 2 is likely the leader, Instrument 1 is the follower.\n",
            "(10, 0.8607693248107209)\n"
          ]
        }
      ],
      "source": [
        "print(market_corr(eth['mid_price'], btc['mid_price'], max_lag_ms=100, freq='0.01ms'))\n",
        "print(market_corr(eth['vamp'], btc['vamp'], max_lag_ms=100, freq='0.01ms'))"
      ]
    },
    {
      "cell_type": "markdown",
      "metadata": {},
      "source": [
        "Once again we can see that btc overpowers another instrument. Let's attempt to chekc dependency between two less famous coins:"
      ]
    },
    {
      "cell_type": "code",
      "execution_count": null,
      "metadata": {},
      "outputs": [
        {
          "name": "stdout",
          "output_type": "stream",
          "text": [
            "Best lag: 10 ms, Correlation: 0.40110944586061137\n",
            "Instrument 2 is likely the leader, Instrument 1 is the follower.\n",
            "(10, 0.40110944586061137)\n",
            "Best lag: 10 ms, Correlation: 0.4062589649623723\n",
            "Instrument 2 is likely the leader, Instrument 1 is the follower.\n",
            "(10, 0.4062589649623723)\n"
          ]
        }
      ],
      "source": [
        "print(market_corr(mew['mid_price'], pepe['mid_price'], max_lag_ms=100, freq='0.01ms'))\n",
        "print(market_corr(mew['vamp'], pepe['vamp'], max_lag_ms=100, freq='0.01ms'))"
      ]
    },
    {
      "cell_type": "markdown",
      "metadata": {},
      "source": [
        "Here we can see that the correlation is much less apparent. Indeed, while pepe still has some leadirship it is not as debatable as in the case of btc. Let's take a look atthe behaviour of sol coin and its dependencies:"
      ]
    },
    {
      "cell_type": "code",
      "execution_count": null,
      "metadata": {},
      "outputs": [
        {
          "name": "stdout",
          "output_type": "stream",
          "text": [
            "Best lag: 10 ms, Correlation: 0.9061554525797053\n",
            "Instrument 2 is likely the leader, Instrument 1 is the follower.\n",
            "(10, 0.9061554525797053)\n",
            "Best lag: 10 ms, Correlation: 0.9078063484145498\n",
            "Instrument 2 is likely the leader, Instrument 1 is the follower.\n",
            "(10, 0.9078063484145498)\n"
          ]
        }
      ],
      "source": [
        "print(market_corr(sol['mid_price'], pepe['mid_price'], max_lag_ms=100, freq='0.01ms'))\n",
        "print(market_corr(sol['vamp'], pepe['vamp'], max_lag_ms=100, freq='0.01ms'))"
      ]
    },
    {
      "cell_type": "markdown",
      "metadata": {},
      "source": [
        "And the result is that sol is even more correlated with pepe than btc, now let's compare these two coins:"
      ]
    },
    {
      "cell_type": "code",
      "execution_count": null,
      "metadata": {},
      "outputs": [
        {
          "name": "stdout",
          "output_type": "stream",
          "text": [
            "Best lag: 10 ms, Correlation: 0.8849068311121521\n",
            "Instrument 2 is likely the leader, Instrument 1 is the follower.\n",
            "(10, 0.8849068311121521)\n",
            "Best lag: 10 ms, Correlation: 0.8842369113120572\n",
            "Instrument 2 is likely the leader, Instrument 1 is the follower.\n",
            "(10, 0.8842369113120572)\n"
          ]
        }
      ],
      "source": [
        "print(market_corr(sol['mid_price'], btc['mid_price'], max_lag_ms=100, freq='0.01ms'))\n",
        "print(market_corr(sol['vamp'], btc['vamp'], max_lag_ms=100, freq='0.01ms'))"
      ]
    },
    {
      "cell_type": "markdown",
      "metadata": {},
      "source": [
        "Nevertheless, sol still loses againstthe btc. As a result we can come to the conclusion that mid price, VAMP and even potentially micro-price(which is not implemented in this notebook, butdescribed in Stoikov's article) are strong indicators for other instruments in case of present price discovery."
      ]
    },
    {
      "cell_type": "code",
      "execution_count": null,
      "metadata": {},
      "outputs": [
        {
          "name": "stdout",
          "output_type": "stream",
          "text": [
            "Best lag: 10 ms, Correlation: 0.1615803581947272\n",
            "Instrument 2 is likely the leader, Instrument 1 is the follower.\n",
            "(10, 0.1615803581947272)\n"
          ]
        }
      ],
      "source": [
        "print(market_corr((pepe['ask_volume']+pepe['bid_volume'])/np.mean(pepe['ask_volume']+pepe['bid_volume']), (btc['ask_volume']+btc['bid_volume'])/np.mean(btc['ask_volume']+btc['bid_volume']), max_lag_ms=100, freq='0.01ms'))"
      ]
    }
  ],
  "metadata": {
    "colab": {
      "name": "main.ipynb",
      "provenance": []
    },
    "kernelspec": {
      "display_name": "Python 3",
      "language": "python",
      "name": "python3"
    },
    "language_info": {
      "codemirror_mode": {
        "name": "ipython",
        "version": 3
      },
      "file_extension": ".py",
      "mimetype": "text/x-python",
      "name": "python",
      "nbconvert_exporter": "python",
      "pygments_lexer": "ipython3",
      "version": "3.7.6"
    }
  },
  "nbformat": 4,
  "nbformat_minor": 0
}
